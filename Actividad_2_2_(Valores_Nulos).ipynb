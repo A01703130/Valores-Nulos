{
  "nbformat": 4,
  "nbformat_minor": 0,
  "metadata": {
    "colab": {
      "provenance": [],
      "include_colab_link": true
    },
    "kernelspec": {
      "name": "python3",
      "display_name": "Python 3"
    },
    "language_info": {
      "name": "python"
    }
  },
  "cells": [
    {
      "cell_type": "markdown",
      "metadata": {
        "id": "view-in-github",
        "colab_type": "text"
      },
      "source": [
        "<a href=\"https://colab.research.google.com/github/A01703130/Valores-Nulos/blob/main/Actividad_2_2_(Valores_Nulos).ipynb\" target=\"_parent\"><img src=\"https://colab.research.google.com/assets/colab-badge.svg\" alt=\"Open In Colab\"/></a>"
      ]
    },
    {
      "cell_type": "code",
      "source": [
        "import pandas as pd\n",
        "from pandas import Series, DataFrame"
      ],
      "metadata": {
        "id": "7ry4BM0oRP4L"
      },
      "execution_count": null,
      "outputs": []
    },
    {
      "cell_type": "code",
      "execution_count": null,
      "metadata": {
        "id": "8g-F1TUaOEAx"
      },
      "outputs": [],
      "source": [
        "clientes = pd.read_excel('clientes.xlsx', index_col=0)\n",
        "devoluciones = pd.read_excel('devoluciones.xlsx', index_col=0)\n",
        "facturacion = pd.read_excel('facturacion.xlsx', index_col=0)\n",
        "notas_credito = pd.read_excel('notas_credito.xlsx', index_col=0)\n",
        "precios = pd.read_excel('precios_productos.xlsx', index_col=0)\n",
        "gastos_20 = pd.read_excel('gastos_costos2020.xlsx', index_col=0)\n",
        "gastos_21 = pd.read_excel('gastos_costos2021.xlsx', index_col=0)\n",
        "gastos_22 = pd.read_excel('gastos_costos2022.xlsx', index_col=0)\n",
        "gastos_23 = pd.read_excel('gastos_costos2023.xlsx', index_col=0)"
      ]
    },
    {
      "cell_type": "markdown",
      "source": [
        "**Detalle de precios y Productos fabricados**\n",
        "\n",
        "Este dataframe no tiene datos nulos"
      ],
      "metadata": {
        "id": "D9HF1pIdbRIu"
      }
    },
    {
      "cell_type": "code",
      "source": [
        "precios.info()"
      ],
      "metadata": {
        "colab": {
          "base_uri": "https://localhost:8080/"
        },
        "id": "fjXty2N5bMWD",
        "outputId": "05825b36-9650-44fb-ce80-38074252ad46"
      },
      "execution_count": null,
      "outputs": [
        {
          "output_type": "stream",
          "name": "stdout",
          "text": [
            "<class 'pandas.core.frame.DataFrame'>\n",
            "Int64Index: 1426 entries, 0 to 1425\n",
            "Data columns (total 14 columns):\n",
            " #   Column                     Non-Null Count  Dtype         \n",
            "---  ------                     --------------  -----         \n",
            " 0   CVE_DOC                    1426 non-null   object        \n",
            " 1   FECHA_DOC                  1426 non-null   datetime64[ns]\n",
            " 2   NOMBRE_VENDEDOR            1424 non-null   object        \n",
            " 3   NOMBRE_CLIENTE             1426 non-null   object        \n",
            " 4   CANT                       1426 non-null   int64         \n",
            " 5   CVE_ART                    1426 non-null   object        \n",
            " 6   DESCR                      1426 non-null   object        \n",
            " 7   PRECIO_UNITARIO            1426 non-null   float64       \n",
            " 8   COSTO_UNITARIO             1426 non-null   float64       \n",
            " 9   COSTO_UNITARIO_CALCULADO   1426 non-null   float64       \n",
            " 10  SUBTOTAL_PARTIDA           1426 non-null   float64       \n",
            " 11  COSTO_TOTAL_CALCULADO      1426 non-null   float64       \n",
            " 12  MARGEN_UNITARIO_CALCULADO  1426 non-null   float64       \n",
            " 13  MARGEN_TOTAL_CALCULADO     1426 non-null   float64       \n",
            "dtypes: datetime64[ns](1), float64(7), int64(1), object(5)\n",
            "memory usage: 167.1+ KB\n"
          ]
        }
      ]
    },
    {
      "cell_type": "markdown",
      "source": [
        "**Facturación**"
      ],
      "metadata": {
        "id": "7OtSyVSCT-7D"
      }
    },
    {
      "cell_type": "code",
      "source": [
        "facturacion.info()"
      ],
      "metadata": {
        "colab": {
          "base_uri": "https://localhost:8080/"
        },
        "id": "lmAOGxM-UAkC",
        "outputId": "aacfdcb1-0868-4dc9-e877-03efa8abfc5f"
      },
      "execution_count": null,
      "outputs": [
        {
          "output_type": "stream",
          "name": "stdout",
          "text": [
            "<class 'pandas.core.frame.DataFrame'>\n",
            "Int64Index: 10961 entries, 0 to 10960\n",
            "Data columns (total 13 columns):\n",
            " #   Column         Non-Null Count  Dtype         \n",
            "---  ------         --------------  -----         \n",
            " 0   CVE_DOC        10961 non-null  object        \n",
            " 1   CVE_CLPV       10961 non-null  object        \n",
            " 2   STATUS         10961 non-null  object        \n",
            " 3   CVE_VEND       10913 non-null  float64       \n",
            " 4   FECHA_ELAB     10961 non-null  datetime64[ns]\n",
            " 5   FECHA_DOC      10961 non-null  datetime64[ns]\n",
            " 6   FECHA_ENTREGA  10959 non-null  object        \n",
            " 7   FECHA_VEN      10961 non-null  datetime64[ns]\n",
            " 8   FECHA_CANCELA  358 non-null    datetime64[ns]\n",
            " 9   CANTD_TOT      10961 non-null  float64       \n",
            " 10  DES_TOT        10961 non-null  float64       \n",
            " 11  DES_FIN        10961 non-null  int64         \n",
            " 12  RFC            10961 non-null  object        \n",
            "dtypes: datetime64[ns](4), float64(3), int64(1), object(5)\n",
            "memory usage: 1.2+ MB\n"
          ]
        }
      ]
    },
    {
      "cell_type": "code",
      "source": [
        "facturacion=facturacion.fillna({'FECHA_CANCELA':'--','CVE_VEND':'--','FECHA_ENTREGA':'--'})\n",
        "facturacion.isnull().sum()"
      ],
      "metadata": {
        "colab": {
          "base_uri": "https://localhost:8080/"
        },
        "id": "CxNTP3qzidzy",
        "outputId": "201b202e-6c40-458c-b2a5-64575cc2ba78"
      },
      "execution_count": null,
      "outputs": [
        {
          "output_type": "execute_result",
          "data": {
            "text/plain": [
              "CVE_DOC          0\n",
              "CVE_CLPV         0\n",
              "STATUS           0\n",
              "CVE_VEND         0\n",
              "FECHA_ELAB       0\n",
              "FECHA_DOC        0\n",
              "FECHA_ENTREGA    0\n",
              "FECHA_VEN        0\n",
              "FECHA_CANCELA    0\n",
              "CANTD_TOT        0\n",
              "DES_TOT          0\n",
              "DES_FIN          0\n",
              "RFC              0\n",
              "dtype: int64"
            ]
          },
          "metadata": {},
          "execution_count": 24
        }
      ]
    },
    {
      "cell_type": "markdown",
      "source": [
        "**Devoluciones**"
      ],
      "metadata": {
        "id": "nyyp7EgoS7xb"
      }
    },
    {
      "cell_type": "code",
      "source": [
        "devoluciones.info()"
      ],
      "metadata": {
        "colab": {
          "base_uri": "https://localhost:8080/"
        },
        "id": "LZVacaRSRv8F",
        "outputId": "72b51551-d2f1-48f4-9530-dfce3bef46f5"
      },
      "execution_count": null,
      "outputs": [
        {
          "output_type": "stream",
          "name": "stdout",
          "text": [
            "<class 'pandas.core.frame.DataFrame'>\n",
            "Int64Index: 194 entries, 0 to 193\n",
            "Data columns (total 17 columns):\n",
            " #   Column         Non-Null Count  Dtype         \n",
            "---  ------         --------------  -----         \n",
            " 0   TIP_DOC        194 non-null    object        \n",
            " 1   CVE_DOC        194 non-null    object        \n",
            " 2   CVE_CLPV       194 non-null    object        \n",
            " 3   STATUS         194 non-null    object        \n",
            " 4   CVE_VEND       191 non-null    float64       \n",
            " 5   CVE_PEDI       188 non-null    object        \n",
            " 6   FECHA_DOC      194 non-null    datetime64[ns]\n",
            " 7   FECHA_ENTREGA  194 non-null    datetime64[ns]\n",
            " 8   FECHA_VEN      194 non-null    datetime64[ns]\n",
            " 9   FECHA_CANCELA  7 non-null      datetime64[ns]\n",
            " 10  CANTD_TOT      194 non-null    float64       \n",
            " 11  DES_FIN        194 non-null    int64         \n",
            " 12  FECHA_ELAB     194 non-null    datetime64[ns]\n",
            " 13  RFC            194 non-null    object        \n",
            " 14  SERIE          194 non-null    object        \n",
            " 15  FOLIO          194 non-null    int64         \n",
            " 16  DOC_ANT        183 non-null    object        \n",
            "dtypes: datetime64[ns](5), float64(2), int64(2), object(8)\n",
            "memory usage: 27.3+ KB\n"
          ]
        }
      ]
    },
    {
      "cell_type": "code",
      "source": [
        "devoluciones=devoluciones.fillna({'DOC_ANT':'--', 'CVE_PEDI':'--', 'FECHA_CANCELA':'--','CVE_VEND':'--'})\n",
        "devoluciones.isnull().sum()"
      ],
      "metadata": {
        "colab": {
          "base_uri": "https://localhost:8080/"
        },
        "id": "atkmhy6LjCDh",
        "outputId": "4e37dcf4-9369-4567-a837-26d739f29a87"
      },
      "execution_count": null,
      "outputs": [
        {
          "output_type": "execute_result",
          "data": {
            "text/plain": [
              "TIP_DOC          0\n",
              "CVE_DOC          0\n",
              "CVE_CLPV         0\n",
              "STATUS           0\n",
              "CVE_VEND         0\n",
              "CVE_PEDI         0\n",
              "FECHA_DOC        0\n",
              "FECHA_ENTREGA    0\n",
              "FECHA_VEN        0\n",
              "FECHA_CANCELA    0\n",
              "CANTD_TOT        0\n",
              "DES_FIN          0\n",
              "FECHA_ELAB       0\n",
              "RFC              0\n",
              "SERIE            0\n",
              "FOLIO            0\n",
              "DOC_ANT          0\n",
              "dtype: int64"
            ]
          },
          "metadata": {},
          "execution_count": 27
        }
      ]
    },
    {
      "cell_type": "markdown",
      "source": [
        "**Clientes**"
      ],
      "metadata": {
        "id": "mFAf7X6GS--u"
      }
    },
    {
      "cell_type": "code",
      "source": [
        "clientes.info()"
      ],
      "metadata": {
        "colab": {
          "base_uri": "https://localhost:8080/"
        },
        "id": "4Pxw71TSTEUa",
        "outputId": "6fafa410-aa80-4c57-dda1-e5081f1b6ea9"
      },
      "execution_count": null,
      "outputs": [
        {
          "output_type": "stream",
          "name": "stdout",
          "text": [
            "<class 'pandas.core.frame.DataFrame'>\n",
            "Int64Index: 5025 entries, 0 to 5024\n",
            "Data columns (total 3 columns):\n",
            " #   Column  Non-Null Count  Dtype \n",
            "---  ------  --------------  ----- \n",
            " 0   CLAVE   5025 non-null   object\n",
            " 1   RFC     5010 non-null   object\n",
            " 2   NOMBRE  5024 non-null   object\n",
            "dtypes: object(3)\n",
            "memory usage: 157.0+ KB\n"
          ]
        }
      ]
    },
    {
      "cell_type": "code",
      "source": [
        "clientes=clientes.fillna({'RFC':'--','NOMBRE':'--'})\n",
        "clientes.isnull().sum()"
      ],
      "metadata": {
        "colab": {
          "base_uri": "https://localhost:8080/"
        },
        "id": "MD6ITSY4j6tE",
        "outputId": "ba2a7150-371d-4aa3-fc55-f0993c3c10a4"
      },
      "execution_count": null,
      "outputs": [
        {
          "output_type": "execute_result",
          "data": {
            "text/plain": [
              "CLAVE     0\n",
              "RFC       0\n",
              "NOMBRE    0\n",
              "dtype: int64"
            ]
          },
          "metadata": {},
          "execution_count": 28
        }
      ]
    },
    {
      "cell_type": "markdown",
      "source": [
        "**Notas de Crédito**"
      ],
      "metadata": {
        "id": "f6uZqYEpTIzU"
      }
    },
    {
      "cell_type": "code",
      "source": [
        "notas_credito.info()"
      ],
      "metadata": {
        "colab": {
          "base_uri": "https://localhost:8080/"
        },
        "id": "9l2ybN8sTF-t",
        "outputId": "895ccc4e-610d-41ec-9c4a-682cd6e90cb0"
      },
      "execution_count": null,
      "outputs": [
        {
          "output_type": "stream",
          "name": "stdout",
          "text": [
            "<class 'pandas.core.frame.DataFrame'>\n",
            "Int64Index: 515 entries, 0 to 514\n",
            "Data columns (total 15 columns):\n",
            " #   Column         Non-Null Count  Dtype         \n",
            "---  ------         --------------  -----         \n",
            " 0   TIP_DOC        515 non-null    object        \n",
            " 1   CVE_DOC        515 non-null    object        \n",
            " 2   CVE_CLPV       515 non-null    int64         \n",
            " 3   STATUS         515 non-null    object        \n",
            " 4   CVE_VEND       505 non-null    float64       \n",
            " 5   CVE_PEDI       515 non-null    object        \n",
            " 6   FECHA_DOC      515 non-null    datetime64[ns]\n",
            " 7   FECHA_ENTREGA  515 non-null    datetime64[ns]\n",
            " 8   FECHA_VEN      515 non-null    datetime64[ns]\n",
            " 9   FECHA_CANCELA  515 non-null    object        \n",
            " 10  CANTD_TOT      515 non-null    float64       \n",
            " 11  FECHA_ELAB     515 non-null    datetime64[ns]\n",
            " 12  RFC            515 non-null    object        \n",
            " 13  SERIE          515 non-null    object        \n",
            " 14  FOLIO          515 non-null    int64         \n",
            "dtypes: datetime64[ns](4), float64(2), int64(2), object(7)\n",
            "memory usage: 64.4+ KB\n"
          ]
        }
      ]
    },
    {
      "cell_type": "code",
      "source": [
        "notas_credito=notas_credito.fillna({'CVE_PEDI':'--','FECHA_CANCELA':'--','CVE_VEND':'--'})\n",
        "notas_credito.isnull().sum()"
      ],
      "metadata": {
        "colab": {
          "base_uri": "https://localhost:8080/"
        },
        "id": "pG-15N06kg_L",
        "outputId": "b16c2903-dbd3-45a8-8fe2-7fd9ef19364e"
      },
      "execution_count": null,
      "outputs": [
        {
          "output_type": "execute_result",
          "data": {
            "text/plain": [
              "TIP_DOC          0\n",
              "CVE_DOC          0\n",
              "CVE_CLPV         0\n",
              "STATUS           0\n",
              "CVE_VEND         0\n",
              "CVE_PEDI         0\n",
              "FECHA_DOC        0\n",
              "FECHA_ENTREGA    0\n",
              "FECHA_VEN        0\n",
              "FECHA_CANCELA    0\n",
              "CANTD_TOT        0\n",
              "FECHA_ELAB       0\n",
              "RFC              0\n",
              "SERIE            0\n",
              "FOLIO            0\n",
              "dtype: int64"
            ]
          },
          "metadata": {},
          "execution_count": 31
        }
      ]
    },
    {
      "cell_type": "markdown",
      "source": [
        "**Gastos y Costos**"
      ],
      "metadata": {
        "id": "H4MRKRqyTRhG"
      }
    },
    {
      "cell_type": "markdown",
      "source": [
        "*Gastos y Costos 2020*"
      ],
      "metadata": {
        "id": "HS1UBAhTTVDV"
      }
    },
    {
      "cell_type": "code",
      "source": [
        "gastos_20.info()"
      ],
      "metadata": {
        "colab": {
          "base_uri": "https://localhost:8080/"
        },
        "id": "GwOPzBaLR8wC",
        "outputId": "219c5639-c7d7-4139-d597-cc6f7c958d4a"
      },
      "execution_count": null,
      "outputs": [
        {
          "output_type": "stream",
          "name": "stdout",
          "text": [
            "<class 'pandas.core.frame.DataFrame'>\n",
            "Int64Index: 3342 entries, 0 to 3341\n",
            "Data columns (total 19 columns):\n",
            " #   Column       Non-Null Count  Dtype         \n",
            "---  ------       --------------  -----         \n",
            " 0   FECHA        3342 non-null   datetime64[ns]\n",
            " 1   FOLIO        3153 non-null   object        \n",
            " 2   UUID         3342 non-null   object        \n",
            " 3   RFC          3342 non-null   object        \n",
            " 4   PROVEEDOR    3342 non-null   object        \n",
            " 5   TIPO GASTO   3342 non-null   object        \n",
            " 6   GASTO        840 non-null    object        \n",
            " 7   DESCRIPCION  3342 non-null   object        \n",
            " 8   TC           2951 non-null   float64       \n",
            " 9   IMPORTE      3308 non-null   float64       \n",
            " 10  IVA          3074 non-null   float64       \n",
            " 11  RET ISR      3342 non-null   float64       \n",
            " 12  RET IVA      3342 non-null   float64       \n",
            " 13  TOTAL MX     3342 non-null   float64       \n",
            " 14  TOTAL SAT    3342 non-null   float64       \n",
            " 15  TIPO         3341 non-null   object        \n",
            " 16  STATUS       3342 non-null   object        \n",
            " 17  POLIZA       21 non-null     object        \n",
            " 18  Columna1     3342 non-null   float64       \n",
            "dtypes: datetime64[ns](1), float64(8), object(10)\n",
            "memory usage: 522.2+ KB\n"
          ]
        }
      ]
    },
    {
      "cell_type": "code",
      "source": [
        "gastos_20['IMPORTE'].describe()"
      ],
      "metadata": {
        "colab": {
          "base_uri": "https://localhost:8080/"
        },
        "id": "vnaLq6puYLuA",
        "outputId": "8bbc61a0-299d-4073-fd99-eeaf78df5aca"
      },
      "execution_count": null,
      "outputs": [
        {
          "output_type": "execute_result",
          "data": {
            "text/plain": [
              "count      3342.000000\n",
              "mean       3117.307480\n",
              "std        7346.351633\n",
              "min      -48907.340000\n",
              "25%           0.010000\n",
              "50%         476.435000\n",
              "75%        2783.000000\n",
              "max      109239.220000\n",
              "Name: IMPORTE, dtype: float64"
            ]
          },
          "metadata": {},
          "execution_count": 60
        }
      ]
    },
    {
      "cell_type": "code",
      "source": [
        "gastos_20['IVA'].describe()"
      ],
      "metadata": {
        "colab": {
          "base_uri": "https://localhost:8080/"
        },
        "id": "VgSaQx2SaJzS",
        "outputId": "a4a12a88-8507-4244-89a9-875ed8765ae9"
      },
      "execution_count": null,
      "outputs": [
        {
          "output_type": "execute_result",
          "data": {
            "text/plain": [
              "count     3342.000000\n",
              "mean       478.139270\n",
              "std       1355.157158\n",
              "min      -7825.170000\n",
              "25%          0.000000\n",
              "50%         62.005000\n",
              "75%        386.225000\n",
              "max      41280.000000\n",
              "Name: IVA, dtype: float64"
            ]
          },
          "metadata": {},
          "execution_count": 61
        }
      ]
    },
    {
      "cell_type": "code",
      "source": [
        "gastos_20=gastos_20.fillna({'FOLIO':'--','GASTO':0, 'TC':'--' ,'POLIZA':'--'})\n",
        "gastos_20['IMPORTE']=gastos_20 ['IMPORTE'].fillna(round(gastos_20['IMPORTE'].median(),1)) \n",
        "gastos_20['IVA']=gastos_20 ['IVA'].fillna(round(gastos_20['IVA'].median(),1))\n",
        "gastos_20['TIPO']=gastos_20['TIPO'].fillna('I') #Sustituimos con un string según el tipo de dato  \n",
        "\n",
        "gastos_20.isnull().sum()"
      ],
      "metadata": {
        "colab": {
          "base_uri": "https://localhost:8080/"
        },
        "id": "2VMG1lroTX9E",
        "outputId": "66491c3b-0281-4754-eebc-f88486acfd50"
      },
      "execution_count": null,
      "outputs": [
        {
          "output_type": "execute_result",
          "data": {
            "text/plain": [
              "FECHA          0\n",
              "FOLIO          0\n",
              "UUID           0\n",
              "RFC            0\n",
              "PROVEEDOR      0\n",
              "TIPO GASTO     0\n",
              "GASTO          0\n",
              "DESCRIPCION    0\n",
              "TC             0\n",
              "IMPORTE        0\n",
              "IVA            0\n",
              "RET ISR        0\n",
              "RET IVA        0\n",
              "TOTAL MX       0\n",
              "TOTAL SAT      0\n",
              "TIPO           0\n",
              "STATUS         0\n",
              "POLIZA         0\n",
              "Columna1       0\n",
              "dtype: int64"
            ]
          },
          "metadata": {},
          "execution_count": 62
        }
      ]
    },
    {
      "cell_type": "markdown",
      "source": [
        "*Gastos y Costos 2021*"
      ],
      "metadata": {
        "id": "H69NmdseTcLY"
      }
    },
    {
      "cell_type": "code",
      "source": [
        "gastos_21.info()"
      ],
      "metadata": {
        "colab": {
          "base_uri": "https://localhost:8080/"
        },
        "id": "4KmXfrIJTdwk",
        "outputId": "2e520016-f2d6-4df3-de3e-e8965afca1b1"
      },
      "execution_count": null,
      "outputs": [
        {
          "output_type": "stream",
          "name": "stdout",
          "text": [
            "<class 'pandas.core.frame.DataFrame'>\n",
            "Int64Index: 3035 entries, 0 to 3034\n",
            "Data columns (total 18 columns):\n",
            " #   Column       Non-Null Count  Dtype         \n",
            "---  ------       --------------  -----         \n",
            " 0   FECHA        3035 non-null   datetime64[ns]\n",
            " 1   FOLIO        2888 non-null   object        \n",
            " 2   UUID         3035 non-null   object        \n",
            " 3   RFC          3035 non-null   object        \n",
            " 4   PROVEEDOR    3035 non-null   object        \n",
            " 5   TIPO GASTO   3035 non-null   object        \n",
            " 6   DESCRIPCION  3035 non-null   object        \n",
            " 7   MP           2381 non-null   object        \n",
            " 8   TC           3035 non-null   float64       \n",
            " 9   IMPORTE      3035 non-null   float64       \n",
            " 10  IVA          3035 non-null   float64       \n",
            " 11  RET ISR      3035 non-null   float64       \n",
            " 12  RET IVA      3035 non-null   float64       \n",
            " 13  TOTAL MX     3035 non-null   float64       \n",
            " 14  TOTAL SAT    3035 non-null   float64       \n",
            " 15  TIPO         3035 non-null   object        \n",
            " 16  STATUS       3035 non-null   object        \n",
            " 17  POLIZA       663 non-null    object        \n",
            "dtypes: datetime64[ns](1), float64(7), object(10)\n",
            "memory usage: 450.5+ KB\n"
          ]
        }
      ]
    },
    {
      "cell_type": "code",
      "source": [
        "gastos_21=gastos_21.fillna({'FOLIO':'--','MP':'--', 'POLIZA':'--'})\n",
        "gastos_21.isnull().sum()"
      ],
      "metadata": {
        "colab": {
          "base_uri": "https://localhost:8080/"
        },
        "id": "22Fwf_zSl8zk",
        "outputId": "c55d7d91-8919-42c6-93b5-615d0febe5ba"
      },
      "execution_count": null,
      "outputs": [
        {
          "output_type": "execute_result",
          "data": {
            "text/plain": [
              "FECHA          0\n",
              "FOLIO          0\n",
              "UUID           0\n",
              "RFC            0\n",
              "PROVEEDOR      0\n",
              "TIPO GASTO     0\n",
              "DESCRIPCION    0\n",
              "MP             0\n",
              "TC             0\n",
              "IMPORTE        0\n",
              "IVA            0\n",
              "RET ISR        0\n",
              "RET IVA        0\n",
              "TOTAL MX       0\n",
              "TOTAL SAT      0\n",
              "TIPO           0\n",
              "STATUS         0\n",
              "POLIZA         0\n",
              "dtype: int64"
            ]
          },
          "metadata": {},
          "execution_count": 38
        }
      ]
    },
    {
      "cell_type": "markdown",
      "source": [
        "*Gastos y Costos 2022*"
      ],
      "metadata": {
        "id": "u0Uxz3LhTib1"
      }
    },
    {
      "cell_type": "code",
      "source": [
        "gastos_22.info()"
      ],
      "metadata": {
        "colab": {
          "base_uri": "https://localhost:8080/"
        },
        "id": "nNFo1KwzTlc-",
        "outputId": "4ce77f34-4b49-4337-a527-9a4ebc9fdc9b"
      },
      "execution_count": null,
      "outputs": [
        {
          "output_type": "stream",
          "name": "stdout",
          "text": [
            "<class 'pandas.core.frame.DataFrame'>\n",
            "Int64Index: 2577 entries, 0 to 2576\n",
            "Data columns (total 19 columns):\n",
            " #   Column       Non-Null Count  Dtype         \n",
            "---  ------       --------------  -----         \n",
            " 0   FECHA        2577 non-null   datetime64[ns]\n",
            " 1   FOLIO        2475 non-null   object        \n",
            " 2   UUID         2577 non-null   object        \n",
            " 3   RFC          2577 non-null   object        \n",
            " 4   PROOVEDOR    2577 non-null   object        \n",
            " 5   TIPO GASTO   2577 non-null   object        \n",
            " 6   DESCRIPCION  2577 non-null   object        \n",
            " 7   MP           2024 non-null   object        \n",
            " 8   TC           1941 non-null   float64       \n",
            " 9   Importe      2577 non-null   float64       \n",
            " 10  IVA          2577 non-null   float64       \n",
            " 11  RET ISR      2577 non-null   float64       \n",
            " 12  RET IVA      2577 non-null   float64       \n",
            " 13  Otros        0 non-null      float64       \n",
            " 14  TOTAL MX     2577 non-null   float64       \n",
            " 15  TOTAL SAT    2577 non-null   float64       \n",
            " 16  TIPO         2577 non-null   object        \n",
            " 17  STATUS       2577 non-null   object        \n",
            " 18  POLIZA       1776 non-null   object        \n",
            "dtypes: datetime64[ns](1), float64(8), object(10)\n",
            "memory usage: 402.7+ KB\n"
          ]
        }
      ]
    },
    {
      "cell_type": "code",
      "source": [
        "gastos_22['Otros'].isnull().sum()"
      ],
      "metadata": {
        "colab": {
          "base_uri": "https://localhost:8080/"
        },
        "id": "d4EKWxomXZdU",
        "outputId": "2cddd9b7-9603-4db0-999d-1aaadc9f985a"
      },
      "execution_count": null,
      "outputs": [
        {
          "output_type": "execute_result",
          "data": {
            "text/plain": [
              "2577"
            ]
          },
          "metadata": {},
          "execution_count": 43
        }
      ]
    },
    {
      "cell_type": "markdown",
      "source": [
        "Todos los datos en la columna de 'Otros' son valores nulos por lo que vamos a eliminar esa columna"
      ],
      "metadata": {
        "id": "n-ZZ2mBnXfZC"
      }
    },
    {
      "cell_type": "code",
      "source": [
        "gastos_22 = gastos_22.drop('Otros', axis=1)"
      ],
      "metadata": {
        "id": "9oJhQ5cOXmOS"
      },
      "execution_count": null,
      "outputs": []
    },
    {
      "cell_type": "code",
      "source": [
        "gastos_22=gastos_22.fillna({'FOLIO':'--','MP':'--', 'TC':'--','POLIZA':'--'})\n",
        "gastos_22.isnull().sum()"
      ],
      "metadata": {
        "colab": {
          "base_uri": "https://localhost:8080/"
        },
        "id": "Sw3UY51Tl81m",
        "outputId": "678f6134-5c8a-4f08-dae6-28eca2f533f8"
      },
      "execution_count": null,
      "outputs": [
        {
          "output_type": "execute_result",
          "data": {
            "text/plain": [
              "FECHA          0\n",
              "FOLIO          0\n",
              "UUID           0\n",
              "RFC            0\n",
              "PROOVEDOR      0\n",
              "TIPO GASTO     0\n",
              "DESCRIPCION    0\n",
              "MP             0\n",
              "TC             0\n",
              "Importe        0\n",
              "IVA            0\n",
              "RET ISR        0\n",
              "RET IVA        0\n",
              "TOTAL MX       0\n",
              "TOTAL SAT      0\n",
              "TIPO           0\n",
              "STATUS         0\n",
              "POLIZA         0\n",
              "dtype: int64"
            ]
          },
          "metadata": {},
          "execution_count": 46
        }
      ]
    },
    {
      "cell_type": "markdown",
      "source": [
        "*Gastos y Costos 2023*"
      ],
      "metadata": {
        "id": "E4IYc-PNTrTN"
      }
    },
    {
      "cell_type": "code",
      "source": [
        "gastos_23.info()"
      ],
      "metadata": {
        "colab": {
          "base_uri": "https://localhost:8080/"
        },
        "id": "Zll5iKXyTtei",
        "outputId": "31658198-74fa-4d64-ec78-5fd09bf5cbb1"
      },
      "execution_count": null,
      "outputs": [
        {
          "output_type": "stream",
          "name": "stdout",
          "text": [
            "<class 'pandas.core.frame.DataFrame'>\n",
            "Int64Index: 397 entries, 0 to 396\n",
            "Data columns (total 20 columns):\n",
            " #   Column       Non-Null Count  Dtype         \n",
            "---  ------       --------------  -----         \n",
            " 0   FECHA        397 non-null    datetime64[ns]\n",
            " 1   FOLIO        384 non-null    object        \n",
            " 2   UUID         397 non-null    object        \n",
            " 3   RFC          397 non-null    object        \n",
            " 4   PROOVEDOR    397 non-null    object        \n",
            " 5   TIPO GASTO   389 non-null    object        \n",
            " 6   DESCRIPCION  397 non-null    object        \n",
            " 7   MP           326 non-null    object        \n",
            " 8   FP           326 non-null    float64       \n",
            " 9   TC           397 non-null    float64       \n",
            " 10  Importe      397 non-null    float64       \n",
            " 11  IVA          397 non-null    float64       \n",
            " 12  RET ISR      397 non-null    float64       \n",
            " 13  RET IVA      397 non-null    float64       \n",
            " 14  Otros        0 non-null      float64       \n",
            " 15  TOTAL MX     397 non-null    float64       \n",
            " 16  TOTAL SAT    397 non-null    float64       \n",
            " 17  TIPO         397 non-null    object        \n",
            " 18  STATUS       397 non-null    object        \n",
            " 19  POLIZA       282 non-null    object        \n",
            "dtypes: datetime64[ns](1), float64(9), object(10)\n",
            "memory usage: 65.1+ KB\n"
          ]
        }
      ]
    },
    {
      "cell_type": "code",
      "source": [
        "gastos_23['Otros'].isnull().sum()"
      ],
      "metadata": {
        "colab": {
          "base_uri": "https://localhost:8080/"
        },
        "outputId": "ed6be96c-3be3-43cf-f9fb-82868d7a06ed",
        "id": "V86NY42uX8sw"
      },
      "execution_count": null,
      "outputs": [
        {
          "output_type": "execute_result",
          "data": {
            "text/plain": [
              "397"
            ]
          },
          "metadata": {},
          "execution_count": 49
        }
      ]
    },
    {
      "cell_type": "markdown",
      "source": [
        "Todos los datos en la columna de 'Otros' son valores nulos por lo que vamos a eliminar esa columna"
      ],
      "metadata": {
        "id": "Tnu1xnCbX8sx"
      }
    },
    {
      "cell_type": "code",
      "source": [
        "gastos_23 = gastos_23.drop('Otros', axis=1)"
      ],
      "metadata": {
        "id": "MdjGpz00X8sx"
      },
      "execution_count": null,
      "outputs": []
    },
    {
      "cell_type": "code",
      "source": [
        "gastos_23=gastos_23.fillna({'FOLIO':'--', 'TIPO GASTO':'OTROS','MP':'--', 'FP':'--', 'POLIZA':'--'})\n",
        "gastos_23.isnull().sum()"
      ],
      "metadata": {
        "colab": {
          "base_uri": "https://localhost:8080/"
        },
        "id": "TJasIZpomWLb",
        "outputId": "d3330444-2baa-4bfe-d622-06f1a611b7e2"
      },
      "execution_count": null,
      "outputs": [
        {
          "output_type": "execute_result",
          "data": {
            "text/plain": [
              "FECHA          0\n",
              "FOLIO          0\n",
              "UUID           0\n",
              "RFC            0\n",
              "PROOVEDOR      0\n",
              "TIPO GASTO     0\n",
              "DESCRIPCION    0\n",
              "MP             0\n",
              "FP             0\n",
              "TC             0\n",
              "Importe        0\n",
              "IVA            0\n",
              "RET ISR        0\n",
              "RET IVA        0\n",
              "TOTAL MX       0\n",
              "TOTAL SAT      0\n",
              "TIPO           0\n",
              "STATUS         0\n",
              "POLIZA         0\n",
              "dtype: int64"
            ]
          },
          "metadata": {},
          "execution_count": 53
        }
      ]
    },
    {
      "cell_type": "code",
      "source": [
        "#Convertir DataFrame a CSV\n",
        "devoluciones.to_csv('devoluciones_sin_nulos.csv')\n",
        "clientes.to_csv('clientes_sin_nulos.csv')\n",
        "facturacion.to_csv('facturacion_sin_nulos.csv')\n",
        "notas_credito.to_csv('notas_credito_sin_nulos.csv')\n",
        "gastos_20.to_csv('gastos_2020_sin_nulos.csv')\n",
        "gastos_21.to_csv('gastos_2021_sin_nulos.csv')\n",
        "gastos_22.to_csv('gastos_2022_sin_nulos.csv')\n",
        "gastos_23.to_csv('gastos_2023_sin_nulos.csv')"
      ],
      "metadata": {
        "id": "-RVJtem-9JiT"
      },
      "execution_count": null,
      "outputs": []
    },
    {
      "cell_type": "code",
      "source": [
        "#Descargar arhico filtrado en csv\n",
        "from google.colab import files\n",
        "\n",
        "files.download('devoluciones_sin_nulos.csv')\n",
        "files.download('clientes_sin_nulos.csv')\n",
        "files.download('facturacion_sin_nulos.csv')\n",
        "files.download('notas_credito_sin_nulos.csv')\n",
        "files.download('gastos_2020_sin_nulos.csv')\n",
        "files.download('gastos_2021_sin_nulos.csv')\n",
        "files.download('gastos_2022_sin_nulos.csv')\n",
        "files.download('gastos_2023_sin_nulos.csv')"
      ],
      "metadata": {
        "id": "7D35WeYz9QTH"
      },
      "execution_count": null,
      "outputs": []
    }
  ]
}